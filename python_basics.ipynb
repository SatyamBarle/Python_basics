{
  "nbformat": 4,
  "nbformat_minor": 0,
  "metadata": {
    "colab": {
      "provenance": []
    },
    "kernelspec": {
      "name": "python3",
      "display_name": "Python 3"
    },
    "language_info": {
      "name": "python"
    }
  },
  "cells": [
    {
      "cell_type": "markdown",
      "source": [
        "Python Basics Questions"
      ],
      "metadata": {
        "id": "cvlOm485x2PE"
      }
    },
    {
      "cell_type": "markdown",
      "source": [
        "1. What is Python, and why is it popular?\n",
        " -  Python is a high-level, easy-to-read programming language. It is popular because it is simple, versatile, and has a huge community.\n",
        "\n",
        "2. What is an interpreter in Python?\n",
        " - The interpreter is a program that reads and executes Python code line by line.\n",
        "\n",
        "3. What are pre-defined keywords in Python?\n",
        " - These are reserved words with special meanings, like if, else, while, def, and class.\n",
        "\n",
        "4. Can keywords be used as variable names?\n",
        " - No, keywords cannot be used as variable names because they have predefined meanings.\n",
        "\n",
        "5. What is mutability in Python?\n",
        " - Mutability refers to whether an object can be changed after creation.\n",
        "\n",
        "6. Why are lists mutable, but tuples are immutable?\n",
        " - Lists can be changed (mutable), while tuples cannot (immutable) to ensure data safety.\n",
        "\n",
        "7. What is the difference between == and is operators in Python?\n",
        "\n",
        "  - == checks if values are equal.\n",
        " -  is checks if two objects have the same memory address.\n",
        "\n",
        "8. What are logical operators in Python?\n",
        " - Logical operators are and, or, and not, used for combining conditions.\n",
        "\n",
        "9. What is type casting in Python?\n",
        " - Type casting converts one data type into another, like int(\"10\") converting a string to an integer.\n",
        "\n",
        "10. What is the difference between implicit and explicit type casting?\n",
        "\n",
        " - Implicit: Python automatically converts types (e.g., 3 + 2.5 results in 5.5).\n",
        " - Explicit: You manually convert types using functions like int(), float().\n",
        "\n",
        "11. What is the purpose of conditional statements in Python?\n",
        " - They control the flow of execution based on conditions, like if-else statements.\n",
        "\n",
        "12. How does the elif statement work?\n",
        " - elif allows multiple conditions to be checked after an if. If one condition is true, it stops checking further.\n",
        "\n",
        "13. What is the difference between for and while loops?\n",
        "\n",
        " - for loops run for a fixed number of times.\n",
        " - while loops run until a condition is false.\n",
        "\n",
        " 14. Describe a scenario where a while loop is more suitable than a for loop.\n",
        "  - When the number of iterations is unknown, like waiting for user input:\n",
        "\n",
        "  while user_input != \"exit\":\n",
        "    user_input = input(\"Enter command: \")\n"
      ],
      "metadata": {
        "id": "99yWl-Xex9Qp"
      }
    },
    {
      "cell_type": "markdown",
      "source": [
        "Practical Questions:\n"
      ],
      "metadata": {
        "id": "N7KniGHA5riy"
      }
    },
    {
      "cell_type": "code",
      "source": [
        "# 1.Write a Python program to print \"Hello, World!\"\n",
        "print(\"Hello, World!\")\n"
      ],
      "metadata": {
        "colab": {
          "base_uri": "https://localhost:8080/"
        },
        "id": "1TR-bgjT5zJl",
        "outputId": "1f255ce8-ced8-4d79-ad60-1c67ba686436"
      },
      "execution_count": 1,
      "outputs": [
        {
          "output_type": "stream",
          "name": "stdout",
          "text": [
            "Hello, World!\n"
          ]
        }
      ]
    },
    {
      "cell_type": "code",
      "source": [
        "# 2. Write a Python program that displays your name and age\n",
        "name = \"satyam\"\n",
        "age = 20\n",
        "print(f\"My name is {name} and I am {age} years old.\")\n"
      ],
      "metadata": {
        "colab": {
          "base_uri": "https://localhost:8080/"
        },
        "id": "pAR47A-H5zsL",
        "outputId": "c6ccb452-ea9d-4465-92e6-af895e5a8835"
      },
      "execution_count": 2,
      "outputs": [
        {
          "output_type": "stream",
          "name": "stdout",
          "text": [
            "My name is satyam and I am 20 years old.\n"
          ]
        }
      ]
    },
    {
      "cell_type": "code",
      "source": [
        "# 3. Write code to print all the pre-defined keywords in Python using the keyword library\n",
        "import keyword\n",
        "print(\"Python Keywords:\")\n",
        "print(keyword.kwlist)\n"
      ],
      "metadata": {
        "colab": {
          "base_uri": "https://localhost:8080/"
        },
        "id": "B0Pp1DZ15z52",
        "outputId": "3c4b01c4-a5f5-4dff-bc27-a93f72bf6c68"
      },
      "execution_count": 3,
      "outputs": [
        {
          "output_type": "stream",
          "name": "stdout",
          "text": [
            "Python Keywords:\n",
            "['False', 'None', 'True', 'and', 'as', 'assert', 'async', 'await', 'break', 'class', 'continue', 'def', 'del', 'elif', 'else', 'except', 'finally', 'for', 'from', 'global', 'if', 'import', 'in', 'is', 'lambda', 'nonlocal', 'not', 'or', 'pass', 'raise', 'return', 'try', 'while', 'with', 'yield']\n"
          ]
        }
      ]
    },
    {
      "cell_type": "code",
      "source": [
        "# 4. Write a program that checks if a given word is a Python keyword\n",
        "import keyword\n",
        "word = input(\"Enter a word: \")\n",
        "if keyword.iskeyword(word):\n",
        "    print(f\"'{word}' is a Python keyword.\")\n",
        "else:\n",
        "    print(f\"'{word}' is not a Python keyword.\")\n"
      ],
      "metadata": {
        "colab": {
          "base_uri": "https://localhost:8080/"
        },
        "id": "q5Zg-Q4r50Qh",
        "outputId": "932a4c75-dc4b-4e90-a920-b20328ba353a"
      },
      "execution_count": 4,
      "outputs": [
        {
          "output_type": "stream",
          "name": "stdout",
          "text": [
            "Enter a word: int\n",
            "'int' is not a Python keyword.\n"
          ]
        }
      ]
    },
    {
      "cell_type": "code",
      "source": [
        "# 5. Create a list and tuple in Python, and demonstrate how attempting to change an element works differently for each\n",
        "   # For list:\n",
        "my_list = [1, 2, 3]\n",
        "my_list[0] = 10\n",
        "print(\"Modified list:\", my_list)\n",
        "\n",
        "  # For tuple:\n",
        "my_tuple = (1, 2, 3)\n",
        "\n",
        "# my_tuple[0] = 10 == error\n",
        "print(\"Tuple remains unchanged:\", my_tuple)\n"
      ],
      "metadata": {
        "colab": {
          "base_uri": "https://localhost:8080/"
        },
        "id": "fattWxF_50fv",
        "outputId": "8e0b488f-e20e-406c-e102-f8c01cba9d26"
      },
      "execution_count": 5,
      "outputs": [
        {
          "output_type": "stream",
          "name": "stdout",
          "text": [
            "Modified list: [10, 2, 3]\n",
            "Tuple remains unchanged: (1, 2, 3)\n"
          ]
        }
      ]
    },
    {
      "cell_type": "code",
      "source": [
        "# 6. Write a function to demonstrate the behavior of mutable and immutable arguments\n",
        "def modify_values(immutable, mutable):\n",
        "    immutable += 10\n",
        "    mutable.append(10)\n",
        "    return immutable, mutable\n",
        "\n",
        "num = 5\n",
        "lst = [1, 2, 3]\n",
        "\n",
        "new_num, new_lst = modify_values(num, lst)\n",
        "print(\"Original immutable variable (num):\", num)  # Remains 5\n",
        "print(\"Modified immutable value returned from function:\", new_num)\n",
        "print(\"Modified mutable list:\", new_lst)\n"
      ],
      "metadata": {
        "colab": {
          "base_uri": "https://localhost:8080/"
        },
        "id": "TjIRb0b550qy",
        "outputId": "6368fcd0-092e-4523-8e19-f353f81a9b07"
      },
      "execution_count": 6,
      "outputs": [
        {
          "output_type": "stream",
          "name": "stdout",
          "text": [
            "Original immutable variable (num): 5\n",
            "Modified immutable value returned from function: 15\n",
            "Modified mutable list: [1, 2, 3, 10]\n"
          ]
        }
      ]
    },
    {
      "cell_type": "code",
      "source": [
        "# 7. Write a function to demonstrate the behavior of mutable and immutable arguments\n",
        "def update_data(a, b):\n",
        "    a = a * 2\n",
        "    b.append(100)\n",
        "    return a, b\n",
        "\n",
        "immutable_val = 7\n",
        "mutable_list = [7, 8, 9]\n",
        "\n",
        "result_a, result_b = update_data(immutable_val, mutable_list)\n",
        "print(\"Immutable value after function call:\", immutable_val)  # Still 7\n",
        "print(\"Returned new immutable value:\", result_a)\n",
        "print(\"Mutable list after function call:\", result_b)\n"
      ],
      "metadata": {
        "colab": {
          "base_uri": "https://localhost:8080/"
        },
        "id": "Uz0EU6hN502Y",
        "outputId": "7c8a47c0-290d-418d-fc18-d362572a63a2"
      },
      "execution_count": 7,
      "outputs": [
        {
          "output_type": "stream",
          "name": "stdout",
          "text": [
            "Immutable value after function call: 7\n",
            "Returned new immutable value: 14\n",
            "Mutable list after function call: [7, 8, 9, 100]\n"
          ]
        }
      ]
    },
    {
      "cell_type": "code",
      "source": [
        "# 8. Write a program to demonstrate the use of logical operators\n",
        "x = True\n",
        "y = False\n",
        "print(\"x and y:\", x and y)\n",
        "print(\"x or y:\", x or y)\n",
        "print(\"not x:\", not x)\n"
      ],
      "metadata": {
        "colab": {
          "base_uri": "https://localhost:8080/"
        },
        "id": "yrwCRn8051A6",
        "outputId": "91a7f0d3-14fb-457f-c872-c14f9d6e4f87"
      },
      "execution_count": 8,
      "outputs": [
        {
          "output_type": "stream",
          "name": "stdout",
          "text": [
            "x and y: False\n",
            "x or y: True\n",
            "not x: False\n"
          ]
        }
      ]
    },
    {
      "cell_type": "code",
      "source": [
        "# 9. Write a Python program to convert user input from string to integer, float, and boolean types\n",
        "user_input = input(\"Enter a value: \")\n",
        "converted_int = int(user_input)\n",
        "converted_float = float(user_input)\n",
        "\n",
        "converted_bool = bool(converted_int)\n",
        "print(\"As Integer:\", converted_int)\n",
        "print(\"As Float:\", converted_float)\n",
        "print(\"As Boolean:\", converted_bool)\n"
      ],
      "metadata": {
        "colab": {
          "base_uri": "https://localhost:8080/"
        },
        "id": "b5CFu3oB51N0",
        "outputId": "a3a70711-5eee-4ff9-aaa1-4b53c23a7c2b"
      },
      "execution_count": 10,
      "outputs": [
        {
          "output_type": "stream",
          "name": "stdout",
          "text": [
            "Enter a value: 12\n",
            "As Integer: 12\n",
            "As Float: 12.0\n",
            "As Boolean: True\n"
          ]
        }
      ]
    },
    {
      "cell_type": "code",
      "source": [
        " # 10. Write code to demonstrate type casting with list elements\n",
        "str_list = [\"1\", \"2\", \"3\"]\n",
        "int_list = [int(item) for item in str_list]\n",
        "print(\"Original string list:\", str_list)\n",
        "print(\"Converted integer list:\", int_list)\n"
      ],
      "metadata": {
        "colab": {
          "base_uri": "https://localhost:8080/"
        },
        "id": "XXTYFkpi51YV",
        "outputId": "0641bdd2-3fb1-4ebd-c088-42a914abe8c9"
      },
      "execution_count": 11,
      "outputs": [
        {
          "output_type": "stream",
          "name": "stdout",
          "text": [
            "Original string list: ['1', '2', '3']\n",
            "Converted integer list: [1, 2, 3]\n"
          ]
        }
      ]
    },
    {
      "cell_type": "code",
      "source": [
        "# 11. Write a program that checks if a number is positive, negative, or zero\n",
        "number = float(input(\"Enter a number: \"))\n",
        "if number > 0:\n",
        "    print(\"The number is positive.\")\n",
        "elif number < 0:\n",
        "    print(\"The number is negative.\")\n",
        "else:\n",
        "    print(\"The number is zero.\")\n"
      ],
      "metadata": {
        "colab": {
          "base_uri": "https://localhost:8080/"
        },
        "id": "PSePA13C51l4",
        "outputId": "632f8b8a-2b8c-46e2-8145-f53ab65f8609"
      },
      "execution_count": 12,
      "outputs": [
        {
          "output_type": "stream",
          "name": "stdout",
          "text": [
            "Enter a number: 1234\n",
            "The number is positive.\n"
          ]
        }
      ]
    },
    {
      "cell_type": "code",
      "source": [
        "# 12. Write a for loop to print numbers from 1 to 100\n",
        "for i in range(1, 101):\n",
        "    print(i)\n"
      ],
      "metadata": {
        "colab": {
          "base_uri": "https://localhost:8080/"
        },
        "id": "a0JVIzxK51wz",
        "outputId": "c2cd33b1-ffc7-4049-8f17-0f518a2b862e"
      },
      "execution_count": 13,
      "outputs": [
        {
          "output_type": "stream",
          "name": "stdout",
          "text": [
            "1\n",
            "2\n",
            "3\n",
            "4\n",
            "5\n",
            "6\n",
            "7\n",
            "8\n",
            "9\n",
            "10\n",
            "11\n",
            "12\n",
            "13\n",
            "14\n",
            "15\n",
            "16\n",
            "17\n",
            "18\n",
            "19\n",
            "20\n",
            "21\n",
            "22\n",
            "23\n",
            "24\n",
            "25\n",
            "26\n",
            "27\n",
            "28\n",
            "29\n",
            "30\n",
            "31\n",
            "32\n",
            "33\n",
            "34\n",
            "35\n",
            "36\n",
            "37\n",
            "38\n",
            "39\n",
            "40\n",
            "41\n",
            "42\n",
            "43\n",
            "44\n",
            "45\n",
            "46\n",
            "47\n",
            "48\n",
            "49\n",
            "50\n",
            "51\n",
            "52\n",
            "53\n",
            "54\n",
            "55\n",
            "56\n",
            "57\n",
            "58\n",
            "59\n",
            "60\n",
            "61\n",
            "62\n",
            "63\n",
            "64\n",
            "65\n",
            "66\n",
            "67\n",
            "68\n",
            "69\n",
            "70\n",
            "71\n",
            "72\n",
            "73\n",
            "74\n",
            "75\n",
            "76\n",
            "77\n",
            "78\n",
            "79\n",
            "80\n",
            "81\n",
            "82\n",
            "83\n",
            "84\n",
            "85\n",
            "86\n",
            "87\n",
            "88\n",
            "89\n",
            "90\n",
            "91\n",
            "92\n",
            "93\n",
            "94\n",
            "95\n",
            "96\n",
            "97\n",
            "98\n",
            "99\n",
            "100\n"
          ]
        }
      ]
    },
    {
      "cell_type": "code",
      "source": [
        "# 13. Write a Python program to find the sum of all even numbers between 1 and 500\n",
        "total = 0\n",
        "for num in range(1, 501):\n",
        "    if num % 2 == 0:\n",
        "        total += num\n",
        "print(\"Sum of all even numbers between 1 and 500:\", total)\n"
      ],
      "metadata": {
        "colab": {
          "base_uri": "https://localhost:8080/"
        },
        "id": "KMrPBu_v5187",
        "outputId": "f96bb173-a379-4069-aadf-35519e0f8805"
      },
      "execution_count": 14,
      "outputs": [
        {
          "output_type": "stream",
          "name": "stdout",
          "text": [
            "Sum of all even numbers between 1 and 500: 62750\n"
          ]
        }
      ]
    },
    {
      "cell_type": "code",
      "source": [
        "# 14. Write a program to reverse a string using a while loop\n",
        "s = input(\"Enter a string to reverse: \")\n",
        "reversed_str = \"\"\n",
        "index = len(s) - 1\n",
        "while index >= 0:\n",
        "    reversed_str += s[index]\n",
        "    index -= 1\n",
        "print(\"Reversed string:\", reversed_str)\n"
      ],
      "metadata": {
        "colab": {
          "base_uri": "https://localhost:8080/"
        },
        "id": "w3Hsiu9e545R",
        "outputId": "aa2d84cd-4d9c-464e-912e-198d549c237d"
      },
      "execution_count": 15,
      "outputs": [
        {
          "output_type": "stream",
          "name": "stdout",
          "text": [
            "Enter a string to reverse: pokemon\n",
            "Reversed string: nomekop\n"
          ]
        }
      ]
    },
    {
      "cell_type": "code",
      "source": [
        "# 15. Write a Python program to calculate the factorial of a number provided by the user using a while loop.\n",
        "number = int(input(\"Enter a number to calculate its factorial: \"))\n",
        "factorial = 1\n",
        "if number < 0:\n",
        "    print(\"Factorial is not defined for negative numbers.\")\n",
        "else:\n",
        "    while number > 0:\n",
        "        factorial *= number\n",
        "        number -= 1\n",
        "    print(\"Factorial:\", factorial)\n"
      ],
      "metadata": {
        "colab": {
          "base_uri": "https://localhost:8080/"
        },
        "id": "R1gBDmeL55Cz",
        "outputId": "42c32451-dfd1-465b-b340-72fe0b074887"
      },
      "execution_count": 16,
      "outputs": [
        {
          "output_type": "stream",
          "name": "stdout",
          "text": [
            "Enter a number to calculate its factorial: 4\n",
            "Factorial: 24\n"
          ]
        }
      ]
    }
  ]
}